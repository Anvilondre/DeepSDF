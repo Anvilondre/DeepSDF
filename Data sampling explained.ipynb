{
 "cells": [
  {
   "cell_type": "markdown",
   "id": "7389d273",
   "metadata": {},
   "source": [
    "# Data preparation\n",
    "\n",
    "You can download prepared data [here](https://drive.google.com/drive/folders/1AE_mohNpxRg3JXoBX2oiN-8xaMcGYYuX?usp=sharing)\n",
    "\n",
    "## Methodology\n",
    "My kea idea here was to create a dataset of `[index, (xyz)] -> sdf` mappings,\n",
    "which would then be tokenized by index in the runtime.  \n",
    "\n",
    "Runtime tokenization allows us to train torch Embedding layer representations for each training shape, and for the test set we would just freeze the decoder and fine-tune the corresponding Embedding layer for the test shapes, obtaining the representations.\n",
    "\n",
    "For a generalizable model, we need to sample both points within the surface and arbitrarily inside the unit sphere. That was the main challenge I faced in this module, besides calculating the correct SDF itself.\n",
    "\n",
    "## Explored methods and their challenges\n",
    "\n",
    "### Self-written solver for sdf calculation\n",
    "That's what I initially thought of when received the test task, and it sounded exciting. But then I re-read and found the \"representation\" word that lead me to the DeepSDF kind-of approach. Anyways,\n",
    "#### Rewards\n",
    "- Should be pretty flexible and accurate\n",
    "- Sounds like fun and I love digging into the math, projective geometry and stuff\n",
    "\n",
    "#### Challenges\n",
    "- Both research and implementation are time-consuming\n",
    "- May be very slow in pure Python, and I don't feel like fighting against JIT-compilers this time around\n",
    "\n",
    "### Taking the `DeepSDF` preprocessing\n",
    "Could be easy, but for God's sake I hate C++ libraries and their dependencies. x2 pain if you're working on a M1 Macbook as myself\n",
    "#### Rewards\n",
    "- Very easy\n",
    "\n",
    "#### Challenges\n",
    "- Badly written documentation and prepro code, slowing down my attempts\n",
    "- Billion of C++ dependencies, each having billion other dependencies that drove me nuts at some point\n",
    "\n",
    "### `sample_sdf_near_surface` function from [`mesh-to-sdf`](https://github.com/marian42/mesh_to_sdf#sample-sdf-points-non-uniformly-near-the-surface) package\n",
    "Initially, I was glad to find this package, as it could make my life a ton easier, but... it never worked correctly for me. The SDF values were very noisy and sometimes just absurd. I tried it both on my M1 Macbook and on my Ubuntu laptops. Spent at least a couple of days trying to make it work but no success.\n",
    "\n",
    "#### Rewards\n",
    "- Could be easy to use and fast to implement\n",
    "\n",
    "#### Challenges\n",
    "- OpenGL engine doesn't work well in M1 Macbooks, crashing every time after 10 renderer calls\n",
    "- OpenGL engine doesn't work well on Ubuntu as well, producing very corrupted raytracing SDF results\n",
    "- It's fairly slow (150 models with 100k sampling points took almost 2 hours for me)\n",
    "- 0 flexibility in choosing the distribution between uniform and surface points\n",
    "- Bad in-shape sampling, resulting in less than 0.1% inside-points sampled\n",
    "- Again, the results were just always wrong for me, resulting in very poor model performance\n",
    "\n",
    "### Tricky `sample_sdf_near_surface` application\n",
    "I tried sampling 500k points with the function, leaving the neg-SDF points, and subsampling pos-SDF. But no good luck :(\n",
    "\n",
    "#### Rewards\n",
    "- Could at least work\n",
    "\n",
    "#### Challenges\n",
    "- Scaling number of sampled points slows down the pipeline even more\n",
    "- Incorrect SDF values, again\n",
    "\n",
    "###  Aggressive surface sampling with [`pysdf`](https://github.com/sxyu/sdf) package\n",
    "After days of struggling with `mesh-to-sdf` I started seeking for alternatives and found this library. Being tired of making things work I considered using very tight and aggressive sampling of the shape. Not that easy, though:\n",
    "\n",
    "#### Rewards\n",
    "- Pretty accurate results\n",
    "- Very fast and lightweight, since it's a purely C++ package with python bindings\n",
    "\n",
    "#### Challenges\n",
    "- Only surface sampling\n",
    "- Produces outliers on very sparce point clounds\n",
    "\n",
    "### Points sampling with `mesh-to-sdf` and SDF calculation with `pysdf`\n",
    "\n",
    "#### Rewards\n",
    "- Was supposed to be accurate\n",
    "\n",
    "#### Challenges\n",
    "- Again, `mesh-to-sdf` didn't work for me, producing low quality sampling inside the shape\n",
    "\n",
    "\n",
    "## Final solution\n",
    "This guy, who posted the `mesh-to-sdf` package, released a [71GB archive of the preprocessed data](https://github.com/marian42/shapegan#data-preparation), with surprisingly okay-ish sampling. After spending 3-4 days on doing the prepro myself I decided to just take his work. \n",
    "\n",
    "#### Rewards\n",
    "- Almost plug-and-play solution, with okay quality\n",
    "\n",
    "#### Challenges\n",
    "- I don't have this much spare memory, so I had to download the archive on my second machine, divide it and send to my main laptop\n",
    "- Very slow download speed ._."
   ]
  },
  {
   "cell_type": "markdown",
   "id": "6c575b7f",
   "metadata": {},
   "source": [
    "# Anyways, here's an example of the final preprocessed model (run the cells below)\n",
    "Blue => Point is inside the shape => SDF < 0"
   ]
  },
  {
   "cell_type": "code",
   "execution_count": 1,
   "id": "3cfd23e4",
   "metadata": {},
   "outputs": [],
   "source": [
    "import torch\n",
    "import numpy as np\n",
    "import pyrender"
   ]
  },
  {
   "cell_type": "code",
   "execution_count": 2,
   "id": "9c5414fd",
   "metadata": {},
   "outputs": [],
   "source": [
    "idx = torch.load('./processed_data/train_idx.pt')\n",
    "points = torch.load('./processed_data/train_X.pt')\n",
    "sdf = torch.load('./processed_data/train_y.pt')"
   ]
  },
  {
   "cell_type": "code",
   "execution_count": 3,
   "id": "7a9b6116",
   "metadata": {},
   "outputs": [],
   "source": [
    "N_sample = 0\n",
    "points_vis = points[idx == N_sample]\n",
    "sdf_vis = sdf[idx == N_sample]"
   ]
  },
  {
   "cell_type": "code",
   "execution_count": 4,
   "id": "91ed774f",
   "metadata": {},
   "outputs": [],
   "source": [
    "colors = np.zeros(points_vis.shape)\n",
    "colors[sdf_vis < 0, 2] = 1\n",
    "colors[sdf_vis > 0, 0] = 1\n",
    "cloud = pyrender.Mesh.from_points(points_vis, colors=colors)\n",
    "scene = pyrender.Scene()\n",
    "scene.add(cloud)\n",
    "viewer = pyrender.Viewer(scene, use_raymond_lighting=True, point_size=2)"
   ]
  },
  {
   "cell_type": "code",
   "execution_count": null,
   "id": "8702dfa2",
   "metadata": {},
   "outputs": [],
   "source": []
  }
 ],
 "metadata": {
  "kernelspec": {
   "display_name": "Python 3 (ipykernel)",
   "language": "python",
   "name": "python3"
  },
  "language_info": {
   "codemirror_mode": {
    "name": "ipython",
    "version": 3
   },
   "file_extension": ".py",
   "mimetype": "text/x-python",
   "name": "python",
   "nbconvert_exporter": "python",
   "pygments_lexer": "ipython3",
   "version": "3.9.12"
  }
 },
 "nbformat": 4,
 "nbformat_minor": 5
}
