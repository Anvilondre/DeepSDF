{
 "cells": [
  {
   "cell_type": "markdown",
   "id": "44fc030b",
   "metadata": {},
   "source": [
    "## That's a notebook with data preprocessing from the downloaded to needed format"
   ]
  },
  {
   "cell_type": "markdown",
   "id": "5fefbc96",
   "metadata": {},
   "source": [
    "You can download the preprocessed data [here](https://drive.google.com/drive/folders/1AE_mohNpxRg3JXoBX2oiN-8xaMcGYYuX?usp=sharing)"
   ]
  },
  {
   "cell_type": "code",
   "execution_count": 1,
   "id": "4bae598a",
   "metadata": {},
   "outputs": [],
   "source": [
    "import os\n",
    "import torch\n",
    "import numpy as np\n",
    "from pathlib import Path"
   ]
  },
  {
   "cell_type": "code",
   "execution_count": 2,
   "id": "1835f480",
   "metadata": {},
   "outputs": [],
   "source": [
    "UNIFORM_DIR = Path('./prepared_airplanes/uniform/')\n",
    "SURFACE_DIR = Path('./prepared_airplanes/surface/')\n",
    "RESULTS_DIR = Path('./processed_data/')\n",
    "\n",
    "# Samples per shape\n",
    "TRAIN_SAMPLES = 100_000\n",
    "VALID_SAMPLES = 20_000\n",
    "TEST_SAMPLES = 80_000\n",
    "\n",
    "# Fraction of points sampled on surface\n",
    "SURFACE_FRACTION = 0.9\n",
    "\n",
    "# Fraction of files for the test set\n",
    "TEST_FRACTION = 0.2"
   ]
  },
  {
   "cell_type": "code",
   "execution_count": 3,
   "id": "26ee1423",
   "metadata": {},
   "outputs": [],
   "source": [
    "files = os.listdir(UNIFORM_DIR)\n",
    "num_files = len(files)\n",
    "split_threshold = int(num_files * TEST_FRACTION)\n",
    "train_val_files = files[split_threshold:]\n",
    "test_files = files[:split_threshold]\n",
    "\n",
    "train_idx = torch.Tensor([])\n",
    "train_X = torch.Tensor([])\n",
    "train_y = torch.Tensor([])\n",
    "\n",
    "valid_idx = torch.Tensor([])\n",
    "valid_X = torch.Tensor([])\n",
    "valid_y = torch.Tensor([])\n",
    "\n",
    "test_idx = torch.Tensor([])\n",
    "test_X = torch.Tensor([])\n",
    "test_y = torch.Tensor([])\n",
    "\n",
    "for i, file in enumerate(train_val_files):\n",
    "    uniform = np.load(UNIFORM_DIR / file)\n",
    "    surface = np.load(SURFACE_DIR / file)\n",
    "    num_samples = TRAIN_SAMPLES + VALID_SAMPLES\n",
    "    \n",
    "    idx_uniform = np.random.choice(\n",
    "        uniform.shape[0],\n",
    "        size=int(num_samples - num_samples * SURFACE_FRACTION),\n",
    "        replace=False\n",
    "    )\n",
    "    \n",
    "    idx_surface = np.random.choice(\n",
    "        surface.shape[0],\n",
    "        size=int(num_samples * SURFACE_FRACTION),\n",
    "        replace=False\n",
    "    )\n",
    "    \n",
    "    combined_valid = np.concatenate(\n",
    "        (uniform[idx_uniform[:int(VALID_SAMPLES - VALID_SAMPLES * SURFACE_FRACTION)], :], \n",
    "         surface[idx_surface[:int(VALID_SAMPLES * SURFACE_FRACTION)], :])\n",
    "    )\n",
    "    \n",
    "    combined_train = np.concatenate(\n",
    "        (uniform[idx_uniform[int(VALID_SAMPLES - VALID_SAMPLES * SURFACE_FRACTION):], :], \n",
    "         surface[idx_surface[int(VALID_SAMPLES * SURFACE_FRACTION):], :])\n",
    "    )\n",
    "    \n",
    "    train_idx = torch.cat((train_idx, torch.Tensor(TRAIN_SAMPLES * [i]))).int()\n",
    "    valid_idx = torch.cat((valid_idx, torch.Tensor(VALID_SAMPLES * [i]))).int()\n",
    "        \n",
    "    train_X = torch.cat((train_X, torch.from_numpy(combined_train[:, :3])))\n",
    "    valid_X = torch.cat((valid_X, torch.from_numpy(combined_valid[:, :3])))\n",
    "    \n",
    "    train_y = torch.cat((train_y, torch.from_numpy(combined_train[:, 3])))\n",
    "    valid_y = torch.cat((valid_y, torch.from_numpy(combined_valid[:, 3])))\n",
    "\n",
    "for i, file in enumerate(test_files):\n",
    "    uniform = np.load(UNIFORM_DIR / file)\n",
    "    surface = np.load(SURFACE_DIR / file)\n",
    "    \n",
    "    idx_uniform = np.random.choice(\n",
    "        uniform.shape[0],\n",
    "        size=int(TEST_SAMPLES - TEST_SAMPLES * SURFACE_FRACTION),\n",
    "        replace=False\n",
    "    )\n",
    "    \n",
    "    idx_surface = np.random.choice(\n",
    "        surface.shape[0],\n",
    "        size=int(TEST_SAMPLES * SURFACE_FRACTION),\n",
    "        replace=False\n",
    "    )\n",
    "    \n",
    "    combined_test = np.concatenate(\n",
    "        (uniform[idx_uniform, :], \n",
    "         surface[idx_surface, :])\n",
    "    )\n",
    "\n",
    "    test_idx = torch.cat((test_idx, torch.Tensor(TEST_SAMPLES * [i]))).int()\n",
    "    test_X = torch.cat((test_X, torch.from_numpy(combined_test[:, :3])))\n",
    "    test_y = torch.cat((test_y, torch.from_numpy(combined_test[:, 3])))"
   ]
  },
  {
   "cell_type": "code",
   "execution_count": 4,
   "id": "9551b63a",
   "metadata": {},
   "outputs": [
    {
     "data": {
      "text/plain": [
       "(torch.Size([12000000]), torch.Size([12000000, 3]), torch.Size([12000000]))"
      ]
     },
     "execution_count": 4,
     "metadata": {},
     "output_type": "execute_result"
    }
   ],
   "source": [
    "train_idx.size(), train_X.size(), train_y.size()"
   ]
  },
  {
   "cell_type": "code",
   "execution_count": 5,
   "id": "467f4ad0",
   "metadata": {},
   "outputs": [
    {
     "data": {
      "text/plain": [
       "(torch.Size([2400000]), torch.Size([2400000, 3]), torch.Size([2400000]))"
      ]
     },
     "execution_count": 5,
     "metadata": {},
     "output_type": "execute_result"
    }
   ],
   "source": [
    "valid_idx.size(), valid_X.size(), valid_y.size()"
   ]
  },
  {
   "cell_type": "code",
   "execution_count": 6,
   "id": "05e0e7aa",
   "metadata": {},
   "outputs": [
    {
     "data": {
      "text/plain": [
       "(torch.Size([2400000]), torch.Size([2400000, 3]), torch.Size([2400000]))"
      ]
     },
     "execution_count": 6,
     "metadata": {},
     "output_type": "execute_result"
    }
   ],
   "source": [
    "test_idx.size(), test_X.size(), test_y.size()"
   ]
  },
  {
   "cell_type": "code",
   "execution_count": 7,
   "id": "2795c00a",
   "metadata": {},
   "outputs": [],
   "source": [
    "torch.save(train_idx, RESULTS_DIR / 'train_idx.pt')\n",
    "torch.save(train_X, RESULTS_DIR / 'train_X.pt')\n",
    "torch.save(train_y, RESULTS_DIR / 'train_y.pt')\n",
    "\n",
    "torch.save(valid_idx, RESULTS_DIR / 'valid_idx.pt')\n",
    "torch.save(valid_X, RESULTS_DIR / 'valid_X.pt')\n",
    "torch.save(valid_y, RESULTS_DIR / 'valid_y.pt')\n",
    "\n",
    "torch.save(test_idx, RESULTS_DIR / 'test_idx.pt')\n",
    "torch.save(test_X, RESULTS_DIR / 'test_X.pt')\n",
    "torch.save(test_y, RESULTS_DIR / 'test_y.pt')"
   ]
  },
  {
   "cell_type": "code",
   "execution_count": null,
   "id": "55c50f61",
   "metadata": {},
   "outputs": [],
   "source": []
  }
 ],
 "metadata": {
  "kernelspec": {
   "display_name": "Python 3 (ipykernel)",
   "language": "python",
   "name": "python3"
  },
  "language_info": {
   "codemirror_mode": {
    "name": "ipython",
    "version": 3
   },
   "file_extension": ".py",
   "mimetype": "text/x-python",
   "name": "python",
   "nbconvert_exporter": "python",
   "pygments_lexer": "ipython3",
   "version": "3.9.12"
  }
 },
 "nbformat": 4,
 "nbformat_minor": 5
}
