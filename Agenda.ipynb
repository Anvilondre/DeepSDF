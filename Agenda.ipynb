{
 "cells": [
  {
   "cell_type": "markdown",
   "id": "5bbd0d1d",
   "metadata": {},
   "source": [
    "## Main challenge\n",
    "It's difficult to model an accurate SDF. Most methods produce results with some lower-bound error rate, thus making it very challenging to actually evaluate the results, since we're approximating an approximation.\n",
    "\n",
    "## Recommended order for viewing the notebooks\n",
    "1. Data sampling explained - my struggles with getting the data, and 90% of my time for this test task\n",
    "2. MyDeepSDF - my approach for SDF modeling with DeepSDF architecture\n",
    "3. (optional) Dataprep - notebook I used to transfer the data in needed format\n",
    "\n",
    "## The resources I've reviewed while doing the test task (there's a lot, so no description this time, sorry)\n",
    "Not all of them are directly related to this test task, but they're all connected to 3D rendering or representations\n",
    "### Videos (mainly listened as a podcast while doing the groceries)\n",
    "[CSC2547 DeepSDF Learning Continuous Signed Distance Functions for Shape Representation](https://youtu.be/1iuLxJmQII0)  \n",
    "[CVPR 2019 Oral Session 1-1B: 3D Multiview](https://youtu.be/0lLnHe0xbZE?t=1404)  \n",
    "[DDN Invited Talk: Deep Surface Meshes (Prof Pascal Fua)](https://youtu.be/dh5y6gSmmmc)  \n",
    "[CSC2547 PolyGen: An Autoregressive Generative Model of 3D Meshes](https://youtu.be/XCrjpIRkVCU)  \n",
    "[Arxiv 2021: SDF secrets](https://youtu.be/5Kn5I2-3Sss)  \n",
    "[Implicit Neural Representations: From Objects to 3D Scenes](https://youtu.be/3uodIr6Ho24)  \n",
    "[CSC2547 Multiview Neural Surface Reconstruction by Disentangling Geometry and Appearance](https://youtu.be/C55y7RhJ1fE)  \n",
    "\n",
    "### Papers\n",
    "[DeepSDF: Learning Continuous Signed Distance Functions for Shape Representation](https://github.com/facebookresearch/DeepSDF)  \n",
    "[DIST: Rendering Deep Implicit Signed Distance Function with Differentiable Sphere Tracing](https://openaccess.thecvf.com/content_CVPR_2020/papers/Liu_DIST_Rendering_Deep_Implicit_Signed_Distance_Function_With_Differentiable_Sphere_CVPR_2020_paper.pdf)  \n",
    "[Adversarial Generation of Continuous Implicit Shape Representations](https://arxiv.org/pdf/2002.00349.pdf)  \n",
    "[SDFDiff: Differentiable Rendering of Signed Distance Fields for 3D Shape\n",
    "Optimization](https://arxiv.org/pdf/2006.03997.pdf)  \n",
    "[MeshSDF: Differentiable Iso-Surface Extraction](https://arxiv.org/pdf/2006.03997.pdf)  \n",
    "\n",
    "### Repos\n",
    "[DIST-Renderer](https://github.com/B1ueber2y/DIST-Renderer)  \n",
    "[mesh-to-sdf](https://github.com/marian42/mesh_to_sdf)  \n",
    "[shapegan](https://github.com/marian42/shapegan)  \n",
    "[pysdf](https://github.com/sxyu/sdf)  \n",
    "[MeshSDF](https://github.com/cvlab-epfl/MeshSDF)  \n",
    "[PyMesh](https://github.com/PyMesh/PyMesh)  \n",
    "[trimesh](https://github.com/mikedh/trimesh)  \n",
    "[pyrender](https://github.com/mmatl/pyrender)  "
   ]
  },
  {
   "cell_type": "code",
   "execution_count": null,
   "id": "0452ec28",
   "metadata": {},
   "outputs": [],
   "source": []
  }
 ],
 "metadata": {
  "kernelspec": {
   "display_name": "Python 3 (ipykernel)",
   "language": "python",
   "name": "python3"
  },
  "language_info": {
   "codemirror_mode": {
    "name": "ipython",
    "version": 3
   },
   "file_extension": ".py",
   "mimetype": "text/x-python",
   "name": "python",
   "nbconvert_exporter": "python",
   "pygments_lexer": "ipython3",
   "version": "3.9.12"
  }
 },
 "nbformat": 4,
 "nbformat_minor": 5
}
